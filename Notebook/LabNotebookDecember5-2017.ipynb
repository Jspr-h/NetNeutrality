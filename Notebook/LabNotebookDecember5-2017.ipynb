{
 "cells": [
  {
   "cell_type": "code",
   "execution_count": 8,
   "metadata": {
    "collapsed": true
   },
   "outputs": [],
   "source": [
    "from IPython.display import Image"
   ]
  },
  {
   "cell_type": "markdown",
   "metadata": {},
   "source": [
    "# Lab Notebook December 5th, 2017\n",
    "###### Assignment structure so far"
   ]
  },
  {
   "cell_type": "markdown",
   "metadata": {},
   "source": [
    "### Introduction and scope\n",
    "<font color='red'>Work in progress</font>\n",
    "\n",
    "We started our project by investigating the political debate on net neutrality. After   diving into the subject, we found that the online debate was heavily influenced by “bots”, and this somewhat distorted the perceived outcome. This became apparent, when we discovered two news articles on the subject, with conflicting takes on the debate. The FCC (the Federal Communications Commision), allowed for citizens to post comments about their stance of the net neutrality legislation. This data has afterwards been cleaned in various ways. It seems now, that how the data is processed determines the perceived outcome of the debate. One article coming from the British Broadcasting Corporation (BBC) said the debate, in reality, was 80 pct. bot generated comments. And that 95 pct. of the organically generated comments were in favor of maintaining net neutrality. \n",
    "\n",
    "### Clarification of concepts\n",
    "<font color='red'>Work in progress</font>\n",
    "\n",
    "This section should contain brief explanations of concepts that can be difficult or confusing to grasp to avoid misunderstandings. \n",
    "Bots, what are the different kinds, what is the kind we’re investigating? \n",
    "Net neutrality - what is it? Why would people use bots, in a controversy like this? \n"
   ]
  },
  {
   "cell_type": "markdown",
   "metadata": {},
   "source": [
    "### Research question (RQ)\n",
    "<font color='red'>Work in progress</font>\n",
    "\n",
    "Based on the feedback we received at pitch day, we saw our old RQ as a methodological description of what we wish to elucidate in the project. We understood that it could be confusing based on our pitch presentation to fully understand which controversy we are looking at - is the controversy in net  neutrality or the controversy of bots as political actors? \n",
    "This is our old RQ (prior to pitch day):  How does the defintions of bots control the mapping of the controversy in net neutrality? \n",
    "Then our new RQ: How does the controversy of social bots as political actors, interfere within the case of net neutrality?\n"
   ]
  },
  {
   "cell_type": "markdown",
   "metadata": {},
   "source": [
    "### Litterature\n",
    "Latour (bots as actors, changing goals and outcomes)<br>\n",
    "Harraway (Subjugated knowledge, feminist objectivity)<br>\n",
    "Clarke (Situational mapping - our scoping process) <br>\n",
    "Topological analysis (choosing measurement criteria, determining the outcome of       your measurements)"
   ]
  },
  {
   "cell_type": "markdown",
   "metadata": {},
   "source": [
    "### Definitions\n",
    "###### DARPA Twitter bot Challenge\n",
    "Background: \n",
    "In 2015, DARPA (Defense advanced research projects agency) performed the twitter bot challenge, with the goal of identifying influence-bots that supported pro vaccination discussions on twitter. 6 teams(2 universities and some private companies) competed, with Sentimetrix winning. \n",
    "\n",
    "This is a description of the bot detection approaches used in the competition. It is intended to make for a definition of twitter bots, although it isn’t fully conclusive, as Bots were, and still are, hard to detect, despite research innovations within this field. \n",
    "\n",
    "A big part of the detection of bots, comes from machine learning, but the teams found that machine learning itself wasn’t sufficient. \n",
    "\n",
    "They also had to look at;\n",
    "\n",
    "<i>Tweet syntax</i><br>\n",
    "Does the user post tweets whose syntax is similar to the natural language generation program called Eliza and auto-generation of language.\n",
    "The average number of hashtags, user mentions, links, special characters, retweets, geo-enabled tweets, percentage of tweets ending with punctuation, hashtag or link\n",
    "    \n",
    "<i>Tweet semantics</i><br>\n",
    "Number of user posts related to net neutrality\n",
    "Users general opinion of the subject in question (in this case anti-vaccination). Are there any contradictions between opinions? \n",
    "The most frequent topics the user tweets about\n",
    "The number of languages used by the user - if there are several languages being used, the rationale is that it has a higher tendency of being a bot\n",
    "Inconsistency and URL replacements in retweets which directs users to sites that pays the “bot”-makers. \n",
    "\n",
    "<i>Temporal behaviour features</i><br>\n",
    "Did the user linger between opinions over time? \n",
    "Did the user engage users with anti-vaccination opinions, and then switching to a different view? \n",
    "Are there regularities in the tweets, meaning is the tweets tweeted with some specific algorithmic time schedule?\n",
    "The duration of tweeting - is the user tweeting constantly for 10 minuts, for an hour etc. \n",
    "Average number of tweets per day\n",
    "Percentage of dropped followers\n",
    "Is there any abrupt changes in the users’ metadata? (followers, followees, posts). \n",
    "\n",
    "<i>User profile features</i><br>\n",
    "Did the user have a profile picture? From a stock site?\n",
    "Did the user's profile have an associated URL? Was the URL meaningful, or just random numbers for example. \n",
    "How is the users twitter name? A standard string, or an integer? \n",
    "Number of posts/retweets/replies/mentions\n",
    "Number of followers/followings\n",
    "Number of sources used by the user such as mobile applications, desktop browsers, ‘null’ or anything else? \n",
    "GPS coordinate availability for user’s tweets\n",
    "Similarity of users to known bots\n",
    "\n",
    "<i>Network features</i><br>\n",
    "Average deviation of user sentiment scores from those following and followees. \n",
    "In and out degree centrality\n",
    "Average clustering coefficient of retweet and mention network associated with each user\n",
    "Pagerank and betweenness centrality of users in both retweet and mention networks\n",
    "Variables related to star and clique networks associated with users. \n",
    "Number of known bots followed by a user - a user following several known bots is more likely to be a bot\n",
    "Number/percentage of bots in the cluster that a user belongs to - if a clustering algorithm places the user in a cluster with many bots, he is more likely to be a bot.\n",
    "\n",
    "###### Broadband for America\n",
    "Emprata published a paper on the submitted comments to the FCC (Federal Communications Commission), analysing whether the comment sentiment was in favor/against the repeal of Title II. By setting up different parameters under which to analyse, it was found that more than 80% of comments were made by bots. Note, that this isn’t directed at highlighting bots on twitter, but on the website of the FCC. \n",
    "This is a review of the parameters they set up to distinguish bots from real users. It doesn’t eliminate bots from the dataset, but gives a possible measurement of how many of the comments made by bots. Instead they analysed the comments into different groupings of aforementioned parameters.\n",
    "\n",
    "<i>Entire Dataset</i><br>\n",
    "ALL - First they looked at all the comments made. \n",
    "Consider only domestic comments - Then they narrowed it down, only looking at domestic comments\n",
    "Consider only international comments - Only looking at international comments<br>\n",
    "EXCLUDE FAKEMAILGENERATOR - excluding comments made by temporary email address services. (einrot.com, jourrapide.com, armyspy.com, fleckens.hu, cuvox.de, rhyta.com, gustr.com, superrito.com, teleworm.com)\n",
    "Unique comments\n",
    "UNIQUE COMMENTS – Number of unique comments in the docket\n",
    "TRULY UNIQUE COMMENTS – Number of comments appearing only once in the docket<br>\n",
    "Eliminating Duplicative Comments<br>\n",
    "ONE PER ADDRESS – Considers only the first comment for each unique address, city, state, ZIP code combination\n",
    "ONE PER EMAIL – Considers only the first comment from each email address \n",
    "ONE PER ADDRESS/EMAIL – Considers only the first comment from each unique address and email combination \n",
    "\n",
    "\n",
    "<i>Considering only Valid Addresses</i><br>\n",
    "VALID ADDRESS – Considers only comments where an exact address match was found     \n",
    "ONE PER VALID ADDRESS - Considers only the first comment from each valid address \n",
    "\n",
    "To prepare the data for analysis, we    performed various data cleanup/transformation    activities, including the following: \n",
    "Removal of special characters, tabs, new lines, leading spaces, and trailing spaces\n",
    "Transformation of text fields to uppercase\n",
    "Standardization of state field to two character State Abbreviation\n",
    "Standardization of ZIP code field to five digits, including padding of leading zeros\n",
    "Extraction of country name from the “international address” field\n",
    "Removal of duplicate comment (allowing only one    per submission ID)\n"
   ]
  },
  {
   "cell_type": "markdown",
   "metadata": {},
   "source": [
    "### Visualisations - What have we found?\n"
   ]
  },
  {
   "cell_type": "code",
   "execution_count": 9,
   "metadata": {},
   "outputs": [
    {
     "data": {
      "text/html": [
       "<img src=\"https://i.imgur.com/etpyLkU.png\"/>"
      ],
      "text/plain": [
       "<IPython.core.display.Image object>"
      ]
     },
     "execution_count": 9,
     "metadata": {},
     "output_type": "execute_result"
    }
   ],
   "source": [
    "Image(url='https://i.imgur.com/etpyLkU.png')"
   ]
  },
  {
   "cell_type": "markdown",
   "metadata": {},
   "source": [
    "Above visualisation illustrates FCC data bots (those defined by the broadband for america definition sorted by filer name) "
   ]
  },
  {
   "cell_type": "code",
   "execution_count": 10,
   "metadata": {},
   "outputs": [
    {
     "data": {
      "text/html": [
       "<img src=\"https://i.imgur.com/NWcZFuu.png\"/>"
      ],
      "text/plain": [
       "<IPython.core.display.Image object>"
      ]
     },
     "execution_count": 10,
     "metadata": {},
     "output_type": "execute_result"
    }
   ],
   "source": [
    "Image(url='https://i.imgur.com/NWcZFuu.png')"
   ]
  },
  {
   "cell_type": "markdown",
   "metadata": {},
   "source": [
    "Above visualisation illustrates ‘perhaps’ bots in FCC data as defined by the DARPA challenge. It is made by filtering out all names containing a numeral, symbol or a name that does not make sense, e.g. ‘CT’ "
   ]
  },
  {
   "cell_type": "code",
   "execution_count": 11,
   "metadata": {},
   "outputs": [
    {
     "data": {
      "text/html": [
       "<img src=\"https://i.imgur.com/GtAD3ow.png\"/>"
      ],
      "text/plain": [
       "<IPython.core.display.Image object>"
      ]
     },
     "execution_count": 11,
     "metadata": {},
     "output_type": "execute_result"
    }
   ],
   "source": [
    "Image(url='https://i.imgur.com/GtAD3ow.png')"
   ]
  },
  {
   "cell_type": "markdown",
   "metadata": {},
   "source": [
    "Above visualisation exemplifies ‘perhaps’ bots as defined by the DARPA challenge. These are found by filtering out those commenters who commented more than once in a single day. CT is also present here, why he could be more interesting to investigate further. "
   ]
  },
  {
   "cell_type": "markdown",
   "metadata": {},
   "source": [
    "### Links for Topic Modelling visualisations:\n",
    "65.000 tweets, a semantic analysis of distrubtion of contents - 4 categories. Theese are made from an ‘uncleaned’ data set, with no ‘fake’ comments deleted.<br>\n",
    "https://documents.cortext.net/0feb/0febbe25f5852da7ee00f94257c74205/53500/vislda.html<br>\n",
    "2 categories: A hard line drawn, between pro and con. <br>\n",
    "https://documents.cortext.net/b474/b474702137b5afd4a1376a0a4c1622cf/53467/vislda.html\n"
   ]
  }
 ],
 "metadata": {
  "kernelspec": {
   "display_name": "Python 3",
   "language": "python",
   "name": "python3"
  },
  "language_info": {
   "codemirror_mode": {
    "name": "ipython",
    "version": 3
   },
   "file_extension": ".py",
   "mimetype": "text/x-python",
   "name": "python",
   "nbconvert_exporter": "python",
   "pygments_lexer": "ipython3",
   "version": "3.6.3"
  }
 },
 "nbformat": 4,
 "nbformat_minor": 2
}
